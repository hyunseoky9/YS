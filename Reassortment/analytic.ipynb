{
 "cells": [
  {
   "cell_type": "markdown",
   "metadata": {},
   "source": [
    "# Analytical solution for WF model 1 segment and 2 segment viruses without competition"
   ]
  },
  {
   "cell_type": "code",
   "execution_count": 38,
   "metadata": {},
   "outputs": [
    {
     "name": "stdout",
     "output_type": "stream",
     "text": [
      "1.0\n",
      "[0.7866278610665534, 0.18879068665597284, 0.022654882398716738, 0.0018123905918973387, 0.00010874343551384042, 5.21968490466434e-06, 2.0878739618657355e-07, 7.1584250121111e-09, 2.1475275036333353e-10, 5.726740009688886e-12, 1.3744176023253325e-13, 2.9987293141643595e-15, 5.997458628328717e-17, 1.1072231313837647e-18, 1.8980967966578637e-20, 3.036954874652605e-22, 4.555432311978911e-24, 6.431198558087863e-26, 8.574931410783852e-28, 1.0831492308358619e-29, 1.2997790770030365e-31, 1.4854618022891866e-33, 1.6205037843154488e-35, 1.6909604705900594e-37, 1.6909604705900437e-39, 1.6233220517664692e-41, 1.4984511247075093e-43, 1.3319565552955652e-45, 1.141677047396177e-47, 0.0]\n"
     ]
    }
   ],
   "source": [
    "import numpy as np\n",
    "from scipy.stats import poisson\n",
    "mu = 0.0008 * 300 # mu is mutation rate for genome, (usual mu*L in comp1.2 or comp1.3)\n",
    "gennum = 3\n",
    "kl = 30 # number of k's to track\n",
    "# 1 segment model\n",
    "#initialize\n",
    "k = mu # k after mutation\n",
    "p = [] # proportions of individual with certain k value. p[1] = proportion of k=1's.\n",
    "for i in range(kl-1):\n",
    "    p.append(poisson.pmf(i,k))\n",
    "p.append (1 - (np.sum(p)))\n",
    "for i in range(gennum):\n",
    "    p = \n"
   ]
  },
  {
   "cell_type": "code",
   "execution_count": 28,
   "metadata": {},
   "outputs": [
    {
     "name": "stdout",
     "output_type": "stream",
     "text": [
      "[2, 3]\n"
     ]
    }
   ],
   "source": [
    "a = [2,3,4]\n",
    "print(a[0:-1])"
   ]
  }
 ],
 "metadata": {
  "kernelspec": {
   "display_name": "Python 3",
   "language": "python",
   "name": "python3"
  },
  "language_info": {
   "codemirror_mode": {
    "name": "ipython",
    "version": 3
   },
   "file_extension": ".py",
   "mimetype": "text/x-python",
   "name": "python",
   "nbconvert_exporter": "python",
   "pygments_lexer": "ipython3",
   "version": "3.6.1"
  }
 },
 "nbformat": 4,
 "nbformat_minor": 2
}
