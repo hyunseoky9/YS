{
 "cells": [
  {
   "cell_type": "markdown",
   "metadata": {},
   "source": [
    "# Analytical solution for WF model 1 segment and 2 segment viruses without competition"
   ]
  },
  {
   "cell_type": "code",
   "execution_count": 166,
   "metadata": {},
   "outputs": [],
   "source": [
    "import numpy as np\n",
    "from scipy.stats import poisson\n",
    "from scipy.special import comb as C\n",
    "import matplotlib.pyplot as plt\n",
    "# common parameters\n",
    "s = 0.05 # selection coefficient\n",
    "mu = 0.0008 * 300 # mu is mutation rate for genome, (usual mu*L in comp1.2 or comp1.3)\n",
    "gennum = 1000\n",
    "kl = 100 # number of k's to track\n",
    "# roundto = 3 # round the proportion to this number\n",
    "nopick = 10 # number of steps to convergence when calculating proportion\n"
   ]
  },
  {
   "cell_type": "code",
   "execution_count": 167,
   "metadata": {},
   "outputs": [
    {
     "data": {
      "image/png": "[encoded data removed]",
      "text/plain": [
       "<matplotlib.figure.Figure at 0x7f57d3d52f98>"
      ]
     },
     "metadata": {},
     "output_type": "display_data"
    }
   ],
   "source": [
    "# 1 segment model\n",
    "#s = 0.05 # selection coefficient\n",
    "#mu = 0.0010 * 300 # mu is mutation rate for genome, (usual mu*L in comp1.2 or comp1.3)\n",
    "#gennum = 1000\n",
    "#kl = 100 # number of k's to track\n",
    "#roundto = 3 # round the proportion to this number\n",
    "#nopick = 10 # number of steps to convergence when calculating proportion\n",
    "krecord = [] # record of k.\n",
    "#initialize\n",
    "k = 0 # mean k\n",
    "krecord.append(k)\n",
    "p = list(np.zeros(kl)) # proportions of individual with certain k value. p[1] = proportion of k=1's.\n",
    "p[0] = 1.0\n",
    "\n",
    "# go through generations\n",
    "for i in range(gennum): # per generation\n",
    "    k += mu\n",
    "    for index in range(kl):\n",
    "        p[index] = poisson.pmf(index,k)\n",
    "        # p[index] = np.round(poisson.pmf(index,k),roundto)\n",
    "    #if np.sum(p) > 1:\n",
    "    #    p[np.where(p==np.max(p))[0][0]] -= np.sum(p) - 1\n",
    "    #elif np.sum(p) < 1:\n",
    "    #    p[np.where(p==np.max(p))[0][0]] += 1 - np.sum(p)\n",
    "    #print(p)\n",
    "    #print(np.sum(p))\n",
    "    #print(k)\n",
    "    R_factor = 0\n",
    "    for l in range(len(p)):\n",
    "        R_factor += p[l]*(1-s)**l\n",
    "    next_k = 0 # mean k of next generation\n",
    "    for j in range(len(p)): # get the next proportion of k=x's.\n",
    "        R = 0\n",
    "        prob = 0\n",
    "        for k in range(nopick):\n",
    "            prob += (1-R)*p[j]*(1-s)**j\n",
    "            R += (1 - R)*R_factor\n",
    "        next_k += prob*j\n",
    "    k = next_k\n",
    "    krecord.append(k)\n",
    "\n",
    "%matplotlib inline\n",
    "plt.plot(krecord)\n",
    "plt.show()"
   ]
  },
  {
   "cell_type": "code",
   "execution_count": 168,
   "metadata": {
    "scrolled": false
   },
   "outputs": [
    {
     "data": {
      "image/png": "[encoded data removed]",
      "text/plain": [
       "<matplotlib.figure.Figure at 0x7f57d3d6a0f0>"
      ]
     },
     "metadata": {},
     "output_type": "display_data"
    }
   ],
   "source": [
    "# 2 segment model\n",
    "#s = 0.05 # selection coefficient\n",
    "#mu = 0.0010 * 300 # mu is mutation rate for genome, (usual mu*L in comp1.2 or comp1.3)\n",
    "#gennum = 1000\n",
    "#kl = 100 # number of k's to track\n",
    "# roundto = 3 # round the proportion to this number\n",
    "#nopick = 10 # number of steps to convergence when calculating proportion\n",
    "krecord2seg = [] # record of k.\n",
    "krecord1 = []\n",
    "krecord2 = []\n",
    "#initialize\n",
    "p1 = list(np.zeros(kl)) # proportions of individual with certain k value. p[1] = proportion of k=1's.\n",
    "p2 = list(np.zeros(kl))\n",
    "p1[0] = 1.0\n",
    "p2[0] = 1.0\n",
    "k1 = 0 # mean k1 and k2\n",
    "k2 = 0\n",
    "k = 0 # mean k\n",
    "krecord2seg.append(k)\n",
    "krecord1.append(k1)\n",
    "krecord2.append(k2)\n",
    "\n",
    "# go through generations\n",
    "for i in range(gennum): # per generation\n",
    "    k1 += mu/2\n",
    "    k2 += mu/2\n",
    "    for index in range(kl):\n",
    "        p1[index] = poisson.pmf(index,k1)\n",
    "        p2[index] = poisson.pmf(index,k2)\n",
    "    #if np.sum(p1) > 1:\n",
    "    #    p1[np.where(p1==np.max(p1))[0][0]] -= np.sum(p1) - 1\n",
    "    #elif np.sum(p1) < 1:\n",
    "    #    p1[np.where(p1==np.tmax(p1))[0][0]] += 1 - np.sum(p1)\n",
    "    #if np.sum(p2) > 1:\n",
    "    #    p2[np.where(p2==np.max(p2))[0][0]] -= np.sum(p2) - 1\n",
    "    #elif np.sum(p) < 1:\n",
    "    #    p2[np.where(p2==np.max(p2))[0][0]] += 1 - np.sum(p2)\n",
    "    R_factor1 = 0\n",
    "    R_factor2 = 0\n",
    "    for l in range(len(p1)):\n",
    "        R_factor1 += p1[l]*(1 - s)**l\n",
    "        R_factor2 += p2[l]*(1 - s)**l\n",
    "    next_k1 = 0 # mean k1 and k2 of next generation\n",
    "    next_k2 = 0\n",
    "    for j in range(len(p1)): # get the next proportion of k=x's.\n",
    "        R1 = 0\n",
    "        R2 = 0\n",
    "        prob1 = 0\n",
    "        prob2 = 0\n",
    "        m1 = np.floor(N*p1[j])\n",
    "        m2 = np.floor(N*p2[j])\n",
    "        for k in range(nopick):\n",
    "            prob1 += (1 - R1)*p1[j]*(1 - s)**(j + k2)\n",
    "            prob2 += (1 - R2)*p2[j]*(1 - s)**(j + k1)\n",
    "            R1 += (1 - R1)*R_factor1\n",
    "            R2 += (1 - R2)*R_factor2\n",
    "        next_k1 += prob1*j\n",
    "        next_k2 += prob2*j\n",
    "    k1 = next_k1\n",
    "    k2 = next_k2\n",
    "    k = k1 + k2\n",
    "    krecord1.append(k1)\n",
    "    krecord2.append(k2)\n",
    "    krecord2seg.append(k)\n",
    "% matplotlib inline\n",
    "plt.plot(krecord2seg)\n",
    "plt.show()"
   ]
  },
  {
   "cell_type": "code",
   "execution_count": 170,
   "metadata": {},
   "outputs": [
    {
     "data": {
      "image/png": "[encoded data removed]",
      "text/plain": [
       "<matplotlib.figure.Figure at 0x7f57d3e04b38>"
      ]
     },
     "metadata": {},
     "output_type": "display_data"
    },
    {
     "name": "stdout",
     "output_type": "stream",
     "text": [
      "4.559982161593681\n",
      "4.8\n"
     ]
    }
   ],
   "source": [
    "plt.plot(krecord,label='1seg')\n",
    "plt.plot(krecord2seg,label='2seg')\n",
    "plt.title('1seg and 2seg\\'s mean k over time')\n",
    "plt.legend()\n",
    "plt.show()\n",
    "print(krecord[-8])\n",
    "print(mu/s)"
   ]
  },
  {
   "cell_type": "code",
   "execution_count": 172,
   "metadata": {},
   "outputs": [
    {
     "data": {
      "image/png": "[encoded data removed]",
      "text/plain": [
       "<matplotlib.figure.Figure at 0x7f57d3e28668>"
      ]
     },
     "metadata": {},
     "output_type": "display_data"
    }
   ],
   "source": [
    "# using kt+1 = kt(1-s) + mu\n",
    "\n",
    "s = 0.05\n",
    "krecord = [] # for 1seg\n",
    "krecord2 = [] # for 2seg\n",
    "k = 0 # 1segment mean k\n",
    "\n",
    "k1 = 0 # 1st segment mean k\n",
    "k2 = 0 # 2nd segment mean k\n",
    "k2seg = 0\n",
    "\n",
    "krecord.append(k)\n",
    "krecord2.append(k2seg)\n",
    "genum = 1000\n",
    "for i in range(genum):\n",
    "    k = k*(1-s) + mu\n",
    "    krecord.append(k)\n",
    "    k1 = k1*(1-s) + mu/2\n",
    "    k2 = k2*(1-s) + mu/2\n",
    "    k2seg = k1 + k2\n",
    "    krecord2.append(k2seg)\n",
    "    \n",
    "    \n",
    "    \n",
    "plt.plot(krecord)\n",
    "#plt.plot(krecord2)\n",
    "plt.show()\n",
    "\n"
   ]
  }
 ],
 "metadata": {
  "kernelspec": {
   "display_name": "Python 3",
   "language": "python",
   "name": "python3"
  },
  "language_info": {
   "codemirror_mode": {
    "name": "ipython",
    "version": 3
   },
   "file_extension": ".py",
   "mimetype": "text/x-python",
   "name": "python",
   "nbconvert_exporter": "python",
   "pygments_lexer": "ipython3",
   "version": "3.6.4"
  }
 },
 "nbformat": 4,
 "nbformat_minor": 2
}
