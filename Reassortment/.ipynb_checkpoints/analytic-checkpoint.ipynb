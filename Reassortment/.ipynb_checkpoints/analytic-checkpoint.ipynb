{
 "cells": [
  {
   "cell_type": "markdown",
   "metadata": {},
   "source": [
    "# Analytical solution for WF model 1 segment and 2 segment viruses without competition"
   ]
  },
  {
   "cell_type": "code",
   "execution_count": null,
   "metadata": {},
   "outputs": [],
   "source": [
    "import numpy as np\n",
    "from scipy.stats import poisson\n",
    "from scipy.special import comb as C\n",
    "import matplotlib.pyplot as plt"
   ]
  },
  {
   "cell_type": "code",
   "execution_count": 133,
   "metadata": {},
   "outputs": [
    {
     "data": {
      "image/png": "[encoded data removed]",
      "text/plain": [
       "<matplotlib.figure.Figure at 0x7f58002eaac8>"
      ]
     },
     "metadata": {},
     "output_type": "display_data"
    }
   ],
   "source": [
    "# 1 segment model\n",
    "s = 0.05 # selection coefficient\n",
    "mu = 0.0008 * 300 # mu is mutation rate for genome, (usual mu*L in comp1.2 or comp1.3)\n",
    "gennum = 20\n",
    "kl = 100 # number of k's to track\n",
    "roundto = 3 # round the proportion to this number\n",
    "nopick = 10 # number of steps to convergence when calculating proportion\n",
    "krecord = [] # record of k.\n",
    "#initialize\n",
    "k = 0 # mean k\n",
    "krecord.append(k)\n",
    "p = list(np.zeros(kl)) # proportions of individual with certain k value. p[1] = proportion of k=1's.\n",
    "p[0] = 1.0\n",
    "\n",
    "# go through generations\n",
    "for i in range(gennum): # per generation\n",
    "    k += mu\n",
    "    for index in range(kl):\n",
    "        p[index] = poisson.pmf(index,k)\n",
    "        # p[index] = np.round(poisson.pmf(index,k),roundto)\n",
    "    #if np.sum(p) > 1:\n",
    "    #    p[np.where(p==np.max(p))[0][0]] -= np.sum(p) - 1\n",
    "    #elif np.sum(p) < 1:\n",
    "    #    p[np.where(p==np.max(p))[0][0]] += 1 - np.sum(p)\n",
    "    #print(p)\n",
    "    #print(np.sum(p))\n",
    "    #print(k)\n",
    "    R_factor = 0\n",
    "    for l in range(len(p)):\n",
    "        R_factor += p[l]*(1-s)**l\n",
    "    next_k = 0 # mean k of next generation\n",
    "    for j in range(len(p)): # get the next proportion of k=x's.\n",
    "        R = 0\n",
    "        prob = 0\n",
    "        for k in range(nopick):\n",
    "            prob += (1-R)*p[j]*(1-s)**j\n",
    "            R += (1 - R)*R_factor\n",
    "        next_k += prob*j\n",
    "    k = next_k\n",
    "    krecord.append(k)\n",
    "\n",
    "%matplotlib inline\n",
    "plt.plot(krecord)\n",
    "plt.show()"
   ]
  },
  {
   "cell_type": "code",
   "execution_count": 136,
   "metadata": {},
   "outputs": [
    {
     "name": "stdout",
     "output_type": "stream",
     "text": [
      "2.2682775342402557e-07\n",
      "1.0 1.0\n",
      "2.2682796648294034e-07\n",
      "1.0 1.0\n",
      "2.2682796648314048e-07\n",
      "1.0 1.0\n",
      "2.2682796648314048e-07\n",
      "1.0 1.0\n",
      "2.2682796648314048e-07\n",
      "1.0 1.0\n",
      "2.2682796648314048e-07\n",
      "1.0 1.0\n",
      "2.2682796648314048e-07\n",
      "1.0 1.0\n",
      "2.2682796648314048e-07\n",
      "1.0 1.0\n",
      "2.2682796648314048e-07\n",
      "1.0 1.0\n",
      "2.2682796648314048e-07\n",
      "1.0 1.0\n",
      "2.2682796648314048e-07\n",
      "1.0 1.0\n",
      "2.2682796648314048e-07\n",
      "1.0 1.0\n",
      "2.2682796648314048e-07\n",
      "1.0 1.0\n",
      "2.2682796648314048e-07\n",
      "1.0 1.0\n",
      "2.2682796648314048e-07\n",
      "1.0 1.0\n",
      "2.2682796648314048e-07\n",
      "1.0 1.0\n",
      "2.2682796648314048e-07\n",
      "1.0 1.0\n",
      "2.2682796648314048e-07\n",
      "1.0 1.0\n",
      "2.2682796648314048e-07\n",
      "1.0 1.0\n",
      "2.2682796648314048e-07\n",
      "1.0 1.0\n"
     ]
    },
    {
     "data": {
      "image/png": "[encoded data removed]",
      "text/plain": [
       "<matplotlib.figure.Figure at 0x7f57d3da30b8>"
      ]
     },
     "metadata": {},
     "output_type": "display_data"
    }
   ],
   "source": [
    "# 2 segment model\n",
    "s = 0.05 # selection coefficient\n",
    "mu = 0.0008 * 300 # mu is mutation rate for genome, (usual mu*L in comp1.2 or comp1.3)\n",
    "gennum = 20\n",
    "kl = 100 # number of k's to track\n",
    "# roundto = 3 # round the proportion to this number\n",
    "nopick = 10 # number of steps to convergence when calculating proportion\n",
    "krecord = [] # record of k.\n",
    "krecord1 = []\n",
    "krecord2 = []\n",
    "#initialize\n",
    "p1 = list(np.zeros(kl)) # proportions of individual with certain k value. p[1] = proportion of k=1's.\n",
    "p2 = list(np.zeros(kl))\n",
    "p1[0] = 1.0\n",
    "p2[0] = 1.0\n",
    "k1 = 0 # mean k1 and k2\n",
    "k2 = 0\n",
    "k = 0 # mean k\n",
    "krecord.append(k)\n",
    "krecord1.append(k1)\n",
    "krecord2.append(k2)\n",
    "\n",
    "# go through generations\n",
    "for i in range(gennum): # per generation\n",
    "    k1 += mu/2\n",
    "    k2 += mu/2\n",
    "    for index in range(kl):\n",
    "        p1[index] = poisson.pmf(index,k1/2)\n",
    "        p2[index] = poisson.pmf(index,k2/2)\n",
    "    #if np.sum(p1) > 1:\n",
    "    #    p1[np.where(p1==np.max(p1))[0][0]] -= np.sum(p1) - 1\n",
    "    #elif np.sum(p1) < 1:\n",
    "    #    p1[np.where(p1==np.tmax(p1))[0][0]] += 1 - np.sum(p1)\n",
    "    #if np.sum(p2) > 1:\n",
    "    #    p2[np.where(p2==np.max(p2))[0][0]] -= np.sum(p2) - 1\n",
    "    #elif np.sum(p) < 1:\n",
    "    #    p2[np.where(p2==np.max(p2))[0][0]] += 1 - np.sum(p2)\n",
    "    R_factor1 = 0\n",
    "    R_factor2 = 0\n",
    "    for l in range(len(p1)):\n",
    "        m1 = np.floor(N*p1[l])\n",
    "        m2 = np.floor(N*p2[l])\n",
    "        R_factor1 += p1[l]*(1 - s)**l\n",
    "        R_factor2 += p2[l]*(1 - s)**l\n",
    "    next_k1 = 0 # mean k1 and k2 of next generation\n",
    "    next_k2 = 0\n",
    "    for j in range(len(p)): # get the next proportion of k=x's.\n",
    "        R1 = 0\n",
    "        R2 = 0\n",
    "        prob1 = 0\n",
    "        prob2 = 0\n",
    "        m1 = np.floor(N*p1[j])\n",
    "        m2 = np.floor(N*p2[j])\n",
    "        for k in range(nopick):\n",
    "            prob1 += (1 - R1)*p1[j]/C(N,2)*(1 - s)**(j + k2)\n",
    "            prob2 += (1 - R2)*p2[j]/C(N,2)*(1 - s)**(j + k2)\n",
    "            R1 += (1 - R1)*R_factor1\n",
    "            R2 += (1 - R2)*R_factor2\n",
    "        next_k1 += prob1*j\n",
    "        next_k2 += prob2*j\n",
    "    k1 = next_k1\n",
    "    k2 = next_k2\n",
    "    k = k1 + k2\n",
    "    krecord1.append(k1)\n",
    "    krecord2.append(k2)\n",
    "    krecord.append(k)\n",
    "    print(k)\n",
    "    print(np.sum(p1),np.sum(p2))\n",
    "% matplotlib inline\n",
    "plt.plot(krecord)\n",
    "plt.show()"
   ]
  },
  {
   "cell_type": "code",
   "execution_count": 119,
   "metadata": {},
   "outputs": [
    {
     "name": "stdout",
     "output_type": "stream",
     "text": [
      "d 0.1\n",
      "d' 0.1\n",
      "0.8887186461403614\n",
      "d 0.2\n",
      "d' 0.2\n",
      "0.8442827138333433\n",
      "d 0.3\n",
      "d' 0.3\n",
      "0.8020685781416761\n",
      "d 0.4\n",
      "d' 0.4\n",
      "0.7619651492345922\n",
      "1.0\n",
      "[0.08887186461403615, 0.16885654276666867, 0.24062057344250282, 0.30478605969383693]\n",
      "0.8031350405170445\n"
     ]
    }
   ],
   "source": [
    "p = [0.1,0.2,0.3,0.4]\n",
    "N = 1000\n",
    "k2 = 2.3\n",
    "s = 0.05\n",
    "pnext = []\n",
    "sum = 0\n",
    "for i in range(len(p)):\n",
    "    m1 = N*p[i]\n",
    "    R1 = 0\n",
    "    sum += (C(m1,2)+0.5*m1*(N-m1))/C(N,2)\n",
    "    print('d',(C(m1,2)+0.5*m1*(N-m1))/C(N,2))\n",
    "    print('d\\'',(m1*(m1-1)+m1*(N-m1))/(N*(N-1)))\n",
    "    print((1-s)**(i+k2))\n",
    "    prob = (1-R1)*(C(m1,2)+0.5*m1*(N-m1))/C(N,2)*(1-s)**(i+k2)\n",
    "    pnext.append(prob)\n",
    "print(sum)\n"
   ]
  },
  {
   "cell_type": "code",
   "execution_count": null,
   "metadata": {},
   "outputs": [],
   "source": [
    "(1-0.05)**()"
   ]
  }
 ],
 "metadata": {
  "kernelspec": {
   "display_name": "Python 3",
   "language": "python",
   "name": "python3"
  },
  "language_info": {
   "codemirror_mode": {
    "name": "ipython",
    "version": 3
   },
   "file_extension": ".py",
   "mimetype": "text/x-python",
   "name": "python",
   "nbconvert_exporter": "python",
   "pygments_lexer": "ipython3",
   "version": "3.6.4"
  }
 },
 "nbformat": 4,
 "nbformat_minor": 2
}
