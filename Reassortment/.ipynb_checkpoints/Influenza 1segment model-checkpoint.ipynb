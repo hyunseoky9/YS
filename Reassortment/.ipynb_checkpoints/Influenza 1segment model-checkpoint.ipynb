{
 "cells": [
  {
   "cell_type": "markdown",
   "metadata": {},
   "source": [
    "# 1 Segment Influenza model\n",
    "This is a test model for 1 segmented virus particle. Virus accumulates deleterious mutations that reduces selection coefficient, and the negative impact of the mutant allele is multiplicative.  \n",
    "\n",
    "## Parameters\n",
    "* L = sequence length for a virus\n",
    "* N = Population size (N0 = initial population)\n",
    "* K = Carrying capacity\n",
    "* s = fitness decrease from deleterious mutation\n",
    "* mu = mutation rate\n",
    "* gen_num = generation amount"
   ]
  },
  {
   "cell_type": "code",
   "execution_count": 13,
   "metadata": {
    "collapsed": true
   },
   "outputs": [],
   "source": [
    "L = 300\n",
    "N0 = 100\n",
    "K = 500 \n",
    "mu = 0.01\n",
    "gen_num = 100\n",
    "N = N0"
   ]
  },
  {
   "cell_type": "markdown",
   "metadata": {},
   "source": [
    "## Agent specific parameters\n",
    "\n",
    "* k = number of deleterious mutation\n",
    "* w = fitness\n",
    "* seq = sequence vector"
   ]
  },
  {
   "cell_type": "code",
   "execution_count": 15,
   "metadata": {
    "collapsed": true,
    "scrolled": true
   },
   "outputs": [],
   "source": [
    "import numpy as np\n",
    "\n",
    "class Virus():\n",
    "    \"\"\"\n",
    "    This class produces objects which are single agents of a influenza virus.\n",
    "    L = sequence length for a virus\n",
    "    s = fitness decrease from deleterious mutation\n",
    "    k = number of deleterious mutation\n",
    "    w = fitness\n",
    "    seq = sequence vector\n",
    "    one_index = index of allele that is 1 (mutant)\n",
    "    \"\"\"\n",
    "    def __init__(self,one_index,k):\n",
    "        self.k = k \n",
    "        self.s = 0.05\n",
    "        self.L = 300\n",
    "        self.w = (1-self.s)**self.k\n",
    "        self.seq = np.repeat(0,self.L)\n",
    "        for i in one_index:\n",
    "            self.seq[i] = 1\n",
    "    \n",
    "    def mutate(self,mu):\n",
    "        \"\"\"\n",
    "        Mutation in sequence before reproduction\n",
    "        mu = mutation rate\n",
    "        \"\"\"\n",
    "        self.mutation_num = np.random.binomial(self.L,mu) # number of mutation\n",
    "        mut_seq_index = np.random.randint(self.L, size = self.mutation_num) # pick which allele goes thru mutation\n",
    "        for i in mut_seq_index:\n",
    "            if self.seq[i] == 1: # back mutation allowed.\n",
    "                self.seq[i] = 0\n",
    "                self.k -= 1\n",
    "            else: \n",
    "                self.seq[i] = 1\n",
    "                self.k += 1"
   ]
  },
  {
   "cell_type": "markdown",
   "metadata": {},
   "source": [
    "Initialize virus population"
   ]
  },
  {
   "cell_type": "code",
   "execution_count": 25,
   "metadata": {
    "collapsed": true
   },
   "outputs": [],
   "source": []
  },
  {
   "cell_type": "markdown",
   "metadata": {},
   "source": [
    "Go through reproduction and mutation every generation"
   ]
  },
  {
   "cell_type": "code",
   "execution_count": 26,
   "metadata": {
    "scrolled": true
   },
   "outputs": [
    {
     "name": "stdout",
     "output_type": "stream",
     "text": [
      "189\n",
      "247\n",
      "251\n",
      "216\n",
      "159\n",
      "103\n",
      "78\n",
      "59\n",
      "38\n",
      "31\n",
      "18\n",
      "6\n",
      "5\n",
      "3\n",
      "4\n",
      "1\n",
      "2\n",
      "1\n",
      "1\n",
      "0\n",
      "0\n",
      "0\n",
      "0\n",
      "0\n",
      "0\n",
      "0\n",
      "0\n",
      "0\n",
      "0\n",
      "0\n",
      "0\n",
      "0\n",
      "0\n",
      "0\n",
      "0\n",
      "0\n",
      "0\n",
      "0\n",
      "0\n",
      "0\n",
      "0\n",
      "0\n",
      "0\n",
      "0\n",
      "0\n",
      "0\n",
      "0\n",
      "0\n",
      "0\n",
      "0\n",
      "0\n",
      "0\n",
      "0\n",
      "0\n",
      "0\n",
      "0\n",
      "0\n",
      "0\n",
      "0\n",
      "0\n",
      "0\n",
      "0\n",
      "0\n",
      "0\n",
      "0\n",
      "0\n",
      "0\n",
      "0\n",
      "0\n",
      "0\n",
      "0\n",
      "0\n",
      "0\n",
      "0\n",
      "0\n",
      "0\n",
      "0\n",
      "0\n",
      "0\n",
      "0\n",
      "0\n",
      "0\n",
      "0\n",
      "0\n",
      "0\n",
      "0\n",
      "0\n",
      "0\n",
      "0\n",
      "0\n",
      "0\n",
      "0\n",
      "0\n",
      "0\n",
      "0\n",
      "0\n",
      "0\n",
      "0\n",
      "0\n",
      "0\n"
     ]
    }
   ],
   "source": [
    "viruses = [Virus([],0) for i in range(0,N0)]\n",
    "pop = []\n",
    "for i in range(gen_num):\n",
    "    next_gen = []\n",
    "    for virus in viruses:\n",
    "        virus.mutate(mu)\n",
    "        progeny_n = np.random.poisson(virus.w*(2/(1+N/K))) # number of progeny for that virus\n",
    "        for j in range(progeny_n):\n",
    "            one_index = np.where(virus.seq == 1)[0]\n",
    "            next_gen.append(Virus(one_index, virus.k))\n",
    "    viruses = next_gen\n",
    "    N = len(viruses)\n",
    "    pop.append(len(viruses)) # print population every generation\n",
    "    print(len(viruses))"
   ]
  },
  {
   "cell_type": "code",
   "execution_count": 11,
   "metadata": {},
   "outputs": [
    {
     "data": {
      "text/plain": [
       "[<matplotlib.lines.Line2D at 0x7f7f949bc7b8>]"
      ]
     },
     "execution_count": 11,
     "metadata": {},
     "output_type": "execute_result"
    },
    {
     "data": {
      "image/png": "[encoded data removed]",
      "text/plain": [
       "<matplotlib.figure.Figure at 0x7f7fb97f7c18>"
      ]
     },
     "metadata": {},
     "output_type": "display_data"
    }
   ],
   "source": [
    "%matplotlib inline\n",
    "import matplotlib.pyplot as plt\n",
    "plt.plot(pop)"
   ]
  },
  {
   "cell_type": "markdown",
   "metadata": {
    "collapsed": true
   },
   "source": [
    "Todo:\n",
    "- check: Muller's ratchet doesn't work under large population? And if it doesn't work, does frequency of wild-type viruses -follow f_0 = N*e^(-mu/s)?\n",
    "- check: if the muller's ratchet does activate, does the histogram of mutation amount shift right as generation increases?"
   ]
  }
 ],
 "metadata": {
  "kernelspec": {
   "display_name": "Python 3",
   "language": "python",
   "name": "python3"
  },
  "language_info": {
   "codemirror_mode": {
    "name": "ipython",
    "version": 3
   },
   "file_extension": ".py",
   "mimetype": "text/x-python",
   "name": "python",
   "nbconvert_exporter": "python",
   "pygments_lexer": "ipython3",
   "version": "3.6.1"
  }
 },
 "nbformat": 4,
 "nbformat_minor": 2
}
