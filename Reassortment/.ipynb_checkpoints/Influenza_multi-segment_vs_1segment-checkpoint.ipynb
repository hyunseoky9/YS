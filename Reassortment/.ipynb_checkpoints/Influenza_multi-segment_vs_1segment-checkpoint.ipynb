{
 "cells": [
  {
   "cell_type": "markdown",
   "metadata": {},
   "source": [
    "# Influenza Competition model\n",
    "This is a test model for population change in a pool of virus with 1 segmented virus and multi-segmented virus. Virus accumulates deleterious mutations that reduces selection coefficient, and the negative impact of the mutant allele is multiplicative.  \n",
    "\n",
    "## Parameters\n",
    "* L = sequence length for a virus\n",
    "* N = Population size (N0 = initial population)\n",
    "* K = Carrying capacity\n",
    "* s = fitness decrease from deleterious mutation\n",
    "* mu = mutation rate\n",
    "* gen_num = generation amount"
   ]
  },
  {
   "cell_type": "code",
   "execution_count": 1,
   "metadata": {
    "collapsed": true
   },
   "outputs": [],
   "source": [
    "L = 300\n",
    "N0 = 100\n",
    "K = 500 \n",
    "mu = 0.01\n",
    "gen_num = 100\n",
    "N = N0"
   ]
  },
  {
   "cell_type": "code",
   "execution_count": 2,
   "metadata": {
    "collapsed": true
   },
   "outputs": [],
   "source": [
    "import numpy as np\n",
    "\n",
    "class Virus():\n",
    "    \"\"\"\n",
    "    This class produces objects which are single agents of a influenza virus.\n",
    "    seg_n = number of segments\n",
    "    k = number of deleterious mutation\n",
    "    s = fitness decrease from deleterious mutation\n",
    "    L = sequence length for a virus\n",
    "    cost = cost of having multisegments\n",
    "    w = fitness\n",
    "    progeny_n = number of progenies a virus agent will have during reproduction. Default is 0.\n",
    "    seq = sequence vector\n",
    "    one_index = index of allele that is 1 (mutant)\n",
    "    \"\"\"\n",
    "    def __init__(self,one_index,k,seg_n):\n",
    "        self.seg_n = seg_n\n",
    "        self.k = k\n",
    "        self.s = 0.05\n",
    "        self.L = 300\n",
    "        self.cost = 0.05\n",
    "        self.progeny_n = 0\n",
    "        if self.seg_n == 1:\n",
    "            self.w = (1 - self.s)**self.k\n",
    "        else:\n",
    "            self.w = (1 - self.s)**self.k - self.cost\n",
    "        self.seq = np.repeat(0,self.L)\n",
    "        for i in one_index:\n",
    "            self.seq[i] = 1\n",
    "    \n",
    "    def mutate(self,mu):\n",
    "        \"\"\"\n",
    "        Mutation in sequence before reproduction\n",
    "        mu = mutation rate\n",
    "        \"\"\"\n",
    "        self.mutation_num = np.random.binomial(self.L, mu) # number of mutation\n",
    "        mut_seq_index = np.random.randint(self.L, size = self.mutation_num) # pick which allele goes thru mutation\n",
    "        for i in mut_seq_index:\n",
    "            if self.seq[i] == 1: # back mutation allowed.\n",
    "                self.seq[i] = 0\n",
    "                self.k -= 1\n",
    "            else:\n",
    "                self.seq[i] = 1\n",
    "                self.k += 1"
   ]
  },
  {
   "cell_type": "markdown",
   "metadata": {},
   "source": [
    "<b>Reproduction process</b>:\n",
    "Inputs virus population (1 and 2 segmented) and outputs the virus population of next generation.\n",
    "The 1 segmented virus goes through reproduction without reassortment as done in 1 segment influenza model.\n",
    "number of offspring per virus agent gets decided by the poisson sampling with a parameter that reflects selection coefficient and carrying capacity.\n",
    "The 2 segmented virus goes through reproduction with reassortment.\n",
    "Number of offspring per virus gets decided similarly, but 2 virus produces 1 virus. The last remaining virus particle goes through reproduction in a same way as 1 segmented virus.\n",
    "\n"
   ]
  },
  {
   "cell_type": "code",
   "execution_count": 3,
   "metadata": {
    "collapsed": true
   },
   "outputs": [],
   "source": [
    "def reproduce(viruses1, viruses2):\n",
    "    \"\"\"\n",
    "    input\n",
    "        viruses1 = array of 1segmented virus agents.\n",
    "        viruses2 = array of multi-segmented virus agents.\n",
    "    output\n",
    "        next_gen1 = array of 1segemented virus of next generation.\n",
    "        next_gen2 = array of multi-segemented virus of next generation.\n",
    "    \"\"\"\n",
    "    next_gen1 = []\n",
    "    next_gen2 = []\n",
    "    \n",
    "    for i in range(len(viruses1)): # reproduction of 1segs\n",
    "        progeny_n = np.random.poisson(viruses1[i].w*(2/(1+N/K))) # number of progeny for that virus\n",
    "        for j in range(progeny_n):\n",
    "            one_index = np.where(viruses1[i].seq == 1)[0]\n",
    "            next_gen1.append(Virus(one_index, viruses1[i].k, 1))\n",
    "            \n",
    "    remaining = [] # virus parents with remaining progenies to reproduce (for multi-segs)\n",
    "    for i in range(len(viruses2)): # reproduction of multi-segs\n",
    "        viruses2[i].progeny_n = np.random.poisson(viruses2[i].w*(2/(1+N/K)))\n",
    "        if viruses2[i].progeny_n > 0:\n",
    "            remaining.append(i)\n",
    "    while len(remaining) >= 2: # while there's at least 2 remaining viruses to reproduce together\n",
    "        samp = sorted(np.random.choice(remaining, 2, replace=False)) # pick 2 from the remaining\n",
    "        offspring = reassort(viruses2[samp[0]], viruses2[samp[1]])\n",
    "        if offspring:\n",
    "            next_gen2.append(offspring)\n",
    "        viruses2[samp[0]].progeny_n -= 1\n",
    "        viruses2[samp[1]].progeny_n -= 1\n",
    "        if viruses2[samp[0]].progeny_n == 0: # remove index from remaining if progeny_n is 0.\n",
    "            del remaining[np.where(np.array(remaining)==samp[0])[0][0]]\n",
    "        if viruses2[samp[1]].progeny_n == 0:\n",
    "            del remaining[np.where(np.array(remaining)==samp[1])[0][0]]\n",
    "    # when there's only 1 index reamining, go through regular reproduction (no reassortment)\n",
    "    for i in remaining:\n",
    "        for j in range(viruses2[i].progeny_n):\n",
    "            one_index = np.where(viruses2[i].seq == 1)[0]\n",
    "            next_gen2.append(Virus(one_index, viruses2[i].k, 2))\n",
    "    return next_gen1, next_gen2"
   ]
  },
  {
   "cell_type": "markdown",
   "metadata": {},
   "source": [
    "<b> Reassortment process </b>:\n",
    "In reassortment, two 2 segmented viruses mix there segments to produce offspring. First segment of virus is 0:L/2 and the second segment of virus is L/2:L. The reassorted progeny needs the first segment and second segment of the sequence. Therefore, there's a 1/2 chance that the offspring does not acquire first and second segment, but 2 first or 2 second segment. We assume that if the two viruses reassort each segment come from different parents.  "
   ]
  },
  {
   "cell_type": "code",
   "execution_count": 4,
   "metadata": {
    "collapsed": true
   },
   "outputs": [],
   "source": [
    "def reassort(v1, v2):\n",
    "    prob = np.random.uniform(0,1)\n",
    "    if prob < 0.5: # probability reassortment doesn't work\n",
    "        return False\n",
    "    elif prob < 0.75: # v1 give 1st segment\n",
    "        one_index1 = np.where(v1.seq[0:int(L/2)] == 1)[0] # index of mutant allele of 1st seg\n",
    "        one_index2 = np.where(v2.seq[int(L/2)::] == 1)[0] # index of mutant allele of 2nd seg\n",
    "        one_index2 = one_index2 + int(L/2)\n",
    "        one_index = list(one_index1) + list(one_index2) # mix the segment\n",
    "        k = len(one_index)\n",
    "        offspring = Virus(one_index, k, v1.seg_n)\n",
    "        return offspring\n",
    "    else: # v2 give 1st segment\n",
    "        one_index1 = np.where(v1.seq[0:int(L/2)] == 1)[0] # index of mutant allele of 1st seg\n",
    "        one_index2 = np.where(v2.seq[int(L/2)::] == 1)[0] # index of mutant allele of 2nd seg\n",
    "        one_index2 = one_index2 + int(L/2)\n",
    "        one_index = list(one_index1) + list(one_index2) # mix the segment\n",
    "        k = len(one_index)\n",
    "        offspring = Virus(one_index, k, v1.seg_n)\n",
    "        return offspring"
   ]
  },
  {
   "cell_type": "code",
   "execution_count": 10,
   "metadata": {
    "collapsed": true
   },
   "outputs": [],
   "source": [
    "# change parameters if needed before running it.\n",
    "L = 300\n",
    "N0 = 1000\n",
    "K = 1000\n",
    "mu = 0.0004\n",
    "gen_num = 50\n",
    "N = N0"
   ]
  },
  {
   "cell_type": "markdown",
   "metadata": {},
   "source": [
    "Now go through each generation and write down the population to csv. In each generation the viruses mutate and then reproduce."
   ]
  },
  {
   "cell_type": "code",
   "execution_count": 43,
   "metadata": {
    "scrolled": true
   },
   "outputs": [
    {
     "name": "stderr",
     "output_type": "stream",
     "text": [
      "/home/hyunseok/anaconda3/lib/python3.6/site-packages/numpy/core/fromnumeric.py:2957: RuntimeWarning: Mean of empty slice.\n",
      "  out=out, **kwargs)\n",
      "/home/hyunseok/anaconda3/lib/python3.6/site-packages/numpy/core/_methods.py:80: RuntimeWarning: invalid value encountered in double_scalars\n",
      "  ret = ret.dtype.type(ret / rcount)\n"
     ]
    },
    {
     "name": "stdout",
     "output_type": "stream",
     "text": [
      "the simulation ran for 2.09\n"
     ]
    }
   ],
   "source": [
    "import datetime\n",
    "import timeit\n",
    "\n",
    "# Initialize the virus population. Each subpopulation gets half the population.\n",
    "viruses1 = []\n",
    "viruses2 = []\n",
    "for i in range(int(N/2)):\n",
    "    viruses2.append(Virus([],0,2))\n",
    "for i in range(int(N/2)):\n",
    "    viruses1.append(Virus([],0,1))\n",
    "\n",
    "start = timeit.default_timer()\n",
    "\n",
    "# write out data with file name indicating time it started collecting\n",
    "now = datetime.datetime.now()\n",
    "file_name = 'Influenza_comp_%s.csv'%(now.strftime(\"%Y.%m.%d_%H:%M\"))\n",
    "fh = open(file_name,'w')\n",
    "\n",
    "fh.write('gen,pop1,pop2\\n')\n",
    "fh.write('%d,%d,%d\\n'%(1,len(viruses1),len(viruses2)))\n",
    "\n",
    "fh.write('gen,pop1,pop2,k1,k2\\n')\n",
    "fh.write('%d,%d,%d,%f,%f\\n'%(1,len(viruses1),len(viruses2),0.00,0.00))\n",
    "\n",
    "k_means = [[],[]] # mean of k for each subpop in each generation\n",
    "# run the simulation\n",
    "for gen in range(gen_num):\n",
    "    ks = [[],[]] # k's for each virus in subpops in a generation\n",
    "    for i in range(len(viruses1)):\n",
    "        viruses1[i].mutate(mu)\n",
    "    for j in range(len(viruses2)):\n",
    "        viruses2[j].mutate(mu)\n",
    "    viruses1, viruses2 = reproduce(viruses1,viruses2)\n",
    "    N = len(viruses1) + len(viruses2)\n",
    "    if len(viruses1)>0:\n",
    "        for i in range(len(viruses1)):\n",
    "            ks[0].append(viruses1[i].k)\n",
    "        k_means[0].append(np.mean(np.array(ks[0]))) \n",
    "    else:\n",
    "        k_means[0].append(-1)\n",
    "    if len(viruses2)>0:\n",
    "        for j in range(len(viruses2)):\n",
    "            ks[1].append(viruses2[j].k)\n",
    "        k_means[1].append(np.mean(np.array(ks[1])))\n",
    "    else:\n",
    "        k_means[1].append(-1)\n",
    "        \n",
    "    fh.write('%d,%d,%d\\n'%(gen+1,len(viruses1),len(viruses2)))\n",
    "    fh.write('%d,%d,%d,%.2f,%.2f\\n'%(gen+1,len(viruses1),len(viruses2),\n",
    "                                 np.mean(np.array(ks[0])),np.mean(np.array(ks[1])))) \n",
    "    \n",
    "fh.close()\n",
    "\n",
    "stop = timeit.default_timer()\n",
    "\n",
    "print('the simulation ran for %.2f'%(stop - start))"
   ]
  },
  {
   "cell_type": "code",
   "execution_count": 8,
   "metadata": {},
   "outputs": [
    {
     "data": {
      "text/plain": [
       "2.0"
      ]
     },
     "execution_count": 8,
     "metadata": {},
     "output_type": "execute_result"
    }
   ],
   "source": [
    "np.mean(np.array([1,2,3]))"
   ]
  },
  {
   "cell_type": "code",
   "execution_count": 279,
   "metadata": {},
   "outputs": [
    {
     "ename": "FileNotFoundError",
     "evalue": "[Errno 2] No such file or directory: 'Influenza_comp_.csv'",
     "output_type": "error",
     "traceback": [
      "\u001b[0;31m---------------------------------------------------------------------------\u001b[0m",
      "\u001b[0;31mFileNotFoundError\u001b[0m                         Traceback (most recent call last)",
      "\u001b[0;32m<ipython-input-279-2ccd59e217b1>\u001b[0m in \u001b[0;36m<module>\u001b[0;34m()\u001b[0m\n\u001b[1;32m      1\u001b[0m \u001b[0;32mimport\u001b[0m \u001b[0mpandas\u001b[0m\u001b[0;34m\u001b[0m\u001b[0m\n\u001b[1;32m      2\u001b[0m \u001b[0mfile_name\u001b[0m \u001b[0;34m=\u001b[0m \u001b[0;34m'Influenza_comp_'\u001b[0m \u001b[0;34m+\u001b[0m \u001b[0;34m''\u001b[0m \u001b[0;34m+\u001b[0m \u001b[0;34m'.csv'\u001b[0m\u001b[0;34m\u001b[0m\u001b[0m\n\u001b[0;32m----> 3\u001b[0;31m \u001b[0mfile\u001b[0m \u001b[0;34m=\u001b[0m \u001b[0mopen\u001b[0m\u001b[0;34m(\u001b[0m\u001b[0mfile_name\u001b[0m\u001b[0;34m)\u001b[0m\u001b[0;34m\u001b[0m\u001b[0m\n\u001b[0m\u001b[1;32m      4\u001b[0m \u001b[0;34m\u001b[0m\u001b[0m\n",
      "\u001b[0;31mFileNotFoundError\u001b[0m: [Errno 2] No such file or directory: 'Influenza_comp_.csv'"
     ]
    }
   ],
   "source": [
    "import pandas\n",
    "# file_name = 'Influenza_comp_' + '' + '.csv'\n",
    "data = pandas.read_csv(file_name)\n",
    "\n"
   ]
  },
  {
   "cell_type": "markdown",
   "metadata": {},
   "source": [
    "\n"
   ]
  },
  {
   "cell_type": "code",
   "execution_count": null,
   "metadata": {
    "collapsed": true
   },
   "outputs": [],
   "source": []
  },
  {
   "cell_type": "code",
   "execution_count": null,
   "metadata": {
    "collapsed": true
   },
   "outputs": [],
   "source": []
  }
 ],
 "metadata": {
  "kernelspec": {
   "display_name": "Python 3",
   "language": "python",
   "name": "python3"
  },
  "language_info": {
   "codemirror_mode": {
    "name": "ipython",
    "version": 3
   },
   "file_extension": ".py",
   "mimetype": "text/x-python",
   "name": "python",
   "nbconvert_exporter": "python",
   "pygments_lexer": "ipython3",
   "version": "3.6.1"
  }
 },
 "nbformat": 4,
 "nbformat_minor": 2
}
