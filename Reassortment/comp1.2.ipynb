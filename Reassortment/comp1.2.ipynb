{
 "cells": [
  {
   "cell_type": "markdown",
   "metadata": {},
   "source": [
    "# Influenza Competition model 1.2\n",
    "Same concept as comp model 1 but more efficient. \n",
    "Some key differences:\n",
    "- No back mutation\n",
    "- No sequence information using array. Only keeps track of mutant allele amount"
   ]
  },
  {
   "cell_type": "code",
   "execution_count": 1,
   "metadata": {},
   "outputs": [],
   "source": [
    "import numpy as np\n",
    "\n",
    "class Virus1():\n",
    "    \"\"\"\n",
    "    This class produces objects which are single agents of a influenza virus with 1 segment.\n",
    "    k = number of deleterious mutation in entire genome\n",
    "    s = fitness decrease from deleterious mutation\n",
    "    L = sequence length for a virus\n",
    "    cost = cost of having multisegments\n",
    "    w = fitness\n",
    "    \"\"\"\n",
    "    def __init__(self,k):\n",
    "        self.k = k\n",
    "        self.w = (1 - s)**self.k\n",
    "    \n",
    "    def mutate(self,mu):\n",
    "        \"\"\"\n",
    "        Mutation in sequence before reproduction\n",
    "        mu = mutation rate\n",
    "        \"\"\"\n",
    "        mut_num = int(np.random.binomial(L, mu)) # number of mutation\n",
    "        for i in range(mut_num):\n",
    "            if np.random.uniform(0,L) < self.k:\n",
    "                self.k -= 1 # back mutation\n",
    "            else:\n",
    "                self.k += 1 # normal mutation\n",
    "                \n",
    "                \n",
    "class Virus2():\n",
    "    \"\"\"\n",
    "    This class produces objects which are single agents of a influenza virus with 2 segments.\n",
    "    k1 = number of deleterious mutation in segment1\n",
    "    k2 = number of deleterious mutation in segment2\n",
    "    k = number of deleterious mutation in entire genome\n",
    "    cost = cost of having multisegments\n",
    "    w = fitness\n",
    "    progeny_n = number of progenies a virus agent will have during reproduction. Default is 0.\n",
    "    \"\"\"\n",
    "    def __init__(self,k1, k2):\n",
    "        self.k1 = k1\n",
    "        self.k2 = k2\n",
    "        self.k = self.k1 + self.k2\n",
    "        self.progeny_n = 0\n",
    "        self.w = (1 - s)**self.k - cost\n",
    "    \n",
    "    def mutate(self,mu):\n",
    "        \"\"\"\n",
    "        Mutation in sequence before reproduction\n",
    "        mu = mutation rate\n",
    "        \"\"\"\n",
    "        mut_num = int(np.random.binomial(L, mu)) # number of mutation\n",
    "        for i in range(mut_num):\n",
    "            p = np.random.uniform(0,1)\n",
    "            if np.random.uniform(0,L) < self.k: # back mutation\n",
    "                if p < 0.5: # seg1\n",
    "                    self.k1 -= 1\n",
    "                    self.k -= 1\n",
    "                else: # seg2\n",
    "                    self.k2 -= 1\n",
    "                    self.k -= 1\n",
    "            else: # normal mutation\n",
    "                if p < 0.5: # seg1\n",
    "                    self.k1 += 1\n",
    "                    self.k += 1\n",
    "                else: # seg2\n",
    "                    self.k2 += 1\n",
    "                    self.k += 1\n"
   ]
  },
  {
   "cell_type": "code",
   "execution_count": null,
   "metadata": {},
   "outputs": [],
   "source": [
    "np.random9"
   ]
  },
  {
   "cell_type": "code",
   "execution_count": 38,
   "metadata": {
    "collapsed": true
   },
   "outputs": [],
   "source": [
    "def reproduce(viruses1, viruses2):\n",
    "    \"\"\"\n",
    "    input\n",
    "        viruses1 = array of 1segmented virus agents.\n",
    "        viruses2 = array of multi-segmented virus agents.\n",
    "    output\n",
    "        next_gen1 = array of 1segemented virus of next generation.\n",
    "        next_gen2 = array of multi-segemented virus of next generation.\n",
    "    \"\"\"\n",
    "    next_gen1 = []\n",
    "    next_gen2 = []\n",
    "    \n",
    "    for i in range(len(viruses1)): # reproduction of 1segs\n",
    "        progeny_n = np.random.poisson(viruses1[i].w*(2/(1+N/K))) # number of progeny for that virus\n",
    "        for j in range(progeny_n):\n",
    "            next_gen1.append(Virus1(viruses1[i].k))\n",
    "            \n",
    "    remaining = [] # virus parents with remaining progenies to reproduce (for multi-segs)\n",
    "    for i in range(len(viruses2)): # reproduction of multi-segs\n",
    "        viruses2[i].progeny_n = np.random.poisson(viruses2[i].w*(2/(1+N/K)))\n",
    "        if viruses2[i].progeny_n > 0:\n",
    "            remaining.append(i)\n",
    "    while len(remaining) >= 2: # while there's at least 2 remaining viruses to reproduce together\n",
    "        samp = sorted(np.random.choice(remaining, 2, replace=False)) # pick 2 from the remaining\n",
    "        offspring1, offspring2 = reassort(viruses2[samp[0]], viruses2[samp[1]])\n",
    "        next_gen2.append(offspring1)\n",
    "        next_gen2.append(offspring2)\n",
    "        viruses2[samp[0]].progeny_n -= 1\n",
    "        viruses2[samp[1]].progeny_n -= 1\n",
    "        if viruses2[samp[0]].progeny_n == 0: # remove index from remaining if progeny_n is 0.\n",
    "            del remaining[np.where(np.array(remaining)==samp[0])[0][0]]\n",
    "        if viruses2[samp[1]].progeny_n == 0:\n",
    "            del remaining[np.where(np.array(remaining)==samp[1])[0][0]]\n",
    "    # when there's only 1 index reamining, go through regular reproduction (no reassortment)\n",
    "    for i in remaining:\n",
    "        for j in range(viruses2[i].progeny_n):\n",
    "            next_gen2.append(Virus2(viruses2[i].k1, viruses2[i].k2))\n",
    "    return next_gen1, next_gen2"
   ]
  },
  {
   "cell_type": "code",
   "execution_count": 39,
   "metadata": {
    "collapsed": true
   },
   "outputs": [],
   "source": [
    "def reassort(v1, v2):\n",
    "    prob = np.random.uniform(0,1)\n",
    "    if prob < r: # reassortment\n",
    "        offspring1 = Virus2(v1.k1, v2.k2) # v1 gives first segment\n",
    "        offspring2 = Virus2(v2.k1, v1.k2) # v2 gives first segment\n",
    "        return offspring1, offspring2\n",
    "    else: # no reassortment\n",
    "        offspring1 = Virus2(v1.k1,v1.k2)\n",
    "        offspring2 = Virus2(v2.k1,v2.k2)\n",
    "        return offspring1, offspring2"
   ]
  },
  {
   "cell_type": "markdown",
   "metadata": {},
   "source": [
    "### Parameters\n",
    "* L = sequence length for a virus\n",
    "* N = Population size (N0 = initial population)\n",
    "* K = Carrying capacity\n",
    "* s = fitness decrease from deleterious mutation\n",
    "* mu = mutation rate\n",
    "* gen_num = generation amount \n",
    "* r = reassortment rate\n",
    "* N1r = ratio of 1segment virus"
   ]
  },
  {
   "cell_type": "code",
   "execution_count": 216,
   "metadata": {},
   "outputs": [],
   "source": [
    "# change parameters if needed before running it.\n",
    "L = 300\n",
    "s = 0.05\n",
    "N0 = 1000\n",
    "K = 1000\n",
    "mu = 0.0006\n",
    "gen_num = 500\n",
    "cost = 0.00\n",
    "r = 0.5\n",
    "N1r = 0.5"
   ]
  },
  {
   "cell_type": "code",
   "execution_count": 57,
   "metadata": {},
   "outputs": [
    {
     "name": "stdout",
     "output_type": "stream",
     "text": [
      "\n",
      "the simulation ran for 0.22 min\n"
     ]
    }
   ],
   "source": [
    "import datetime\n",
    "import timeit\n",
    "from progress.bar import Bar\n",
    "\n",
    "bar = Bar('Processing', max=100) # progress bar start\n",
    "# Initialize the virus population. Each subpopulation gets half the population.\n",
    "N = N0\n",
    "viruses1 = []\n",
    "viruses2 = []\n",
    "for i in range(int(N*(1-N1r))):\n",
    "    viruses2.append(Virus2(0,0))\n",
    "for i in range(int(N*N1r)):\n",
    "    viruses1.append(Virus1(0))\n",
    "\n",
    "start = timeit.default_timer()\n",
    "\n",
    "# write out data with file name indicating time it started collecting\n",
    "now = datetime.datetime.now()\n",
    "file_name = './data/Influenza_comp_%s.csv'%(now.strftime(\"%Y.%m.%d_%H:%M\"))\n",
    "fh = open(file_name,'w')\n",
    "\n",
    "fh.write('gen,pop1,pop2,k1,k2\\n')\n",
    "fh.write('%d,%d,%d,%.2f,%.2f\\n'%(1,len(viruses1),len(viruses2),0.00,0.00))\n",
    "\n",
    "# run the simulation\n",
    "for gen in range(gen_num):\n",
    "    for i in range(len(viruses1)):\n",
    "        viruses1[i].mutate(mu)\n",
    "    for j in range(len(viruses2)):\n",
    "        viruses2[j].mutate(mu)\n",
    "    viruses1, viruses2 = reproduce(viruses1,viruses2)\n",
    "    N = len(viruses1) + len(viruses2)\n",
    "    ks = [] # k of each virus of a subpop in each generation\n",
    "    if len(viruses1)>0: # get the mean k of subpop 1\n",
    "        for i in range(len(viruses1)):\n",
    "            ks.append(viruses1[i].k)\n",
    "        k_means1 = np.mean(np.array(ks))\n",
    "    else:\n",
    "        k_means1 = -1 # if pop=0, kmean=-1\n",
    "    ks = []\n",
    "    if len(viruses2)>0: # get the mena k of subpop 1\n",
    "        for j in range(len(viruses2)):\n",
    "            ks.append(viruses2[j].k)\n",
    "        k_means2 = np.mean(np.array(ks))\n",
    "    else:\n",
    "        k_means2 = -1\n",
    "        \n",
    "    fh.write('%d,%d,%d,%.2f,%.2f\\n'%(gen+1,len(viruses1),len(viruses2),\n",
    "                                 k_means1, k_means2))\n",
    "    bar.next()\n",
    "    \n",
    "fh.close()\n",
    "stop = timeit.default_timer()\n",
    "print('\\nthe simulation ran for %.2f min'%((stop - start)/60))\n",
    "bar.finish()"
   ]
  },
  {
   "cell_type": "code",
   "execution_count": 58,
   "metadata": {},
   "outputs": [
    {
     "data": {
      "image/png": "[encoded data removed]",
      "text/plain": [
       "<matplotlib.figure.Figure at 0x7f996c70e0b8>"
      ]
     },
     "metadata": {},
     "output_type": "display_data"
    },
    {
     "data": {
      "image/png": "[encoded data removed]",
      "text/plain": [
       "<matplotlib.figure.Figure at 0x7f995ed14550>"
      ]
     },
     "metadata": {},
     "output_type": "display_data"
    }
   ],
   "source": [
    "%matplotlib inline\n",
    "import pandas\n",
    "import matplotlib.pyplot as plt\n",
    "\n",
    "# file_name = 'Influenza_comp_' + '' + '.csv'\n",
    "data = pandas.read_csv(file_name)\n",
    "plt.plot(data['pop1'], label='1seg')\n",
    "plt.plot(data['pop2'], label='2seg')\n",
    "plt.title('population')\n",
    "plt.legend()\n",
    "plt.show()\n",
    "\n",
    "plt.plot(data['k1'], label='1seg')\n",
    "plt.plot(data['k2'], label='2seg')\n",
    "plt.legend()\n",
    "plt.title('mean_k')\n",
    "plt.show()"
   ]
  },
  {
   "cell_type": "code",
   "execution_count": null,
   "metadata": {
    "collapsed": true
   },
   "outputs": [],
   "source": []
  }
 ],
 "metadata": {
  "kernelspec": {
   "display_name": "Python 3",
   "language": "python",
   "name": "python3"
  },
  "language_info": {
   "codemirror_mode": {
    "name": "ipython",
    "version": 3
   },
   "file_extension": ".py",
   "mimetype": "text/x-python",
   "name": "python",
   "nbconvert_exporter": "python",
   "pygments_lexer": "ipython3",
   "version": "3.6.4"
  }
 },
 "nbformat": 4,
 "nbformat_minor": 2
}
