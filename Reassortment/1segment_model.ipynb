{
 "cells": [
  {
   "cell_type": "markdown",
   "metadata": {},
   "source": [
    "# 1 Segment Influenza model\n",
    "This is a test model for 1 segmented virus particle. Virus accumulates deleterious mutations that reduces selection coefficient, and the negative impact of the mutant allele is multiplicative.  \n",
    "\n",
    "## Parameters\n",
    "* N = Population size (N0 = initial population)\n",
    "* K = Carrying capacity\n",
    "* s = fitness decrease from deleterious mutation\n",
    "* mu = mutation rate\n",
    "* gen_num = generation amount"
   ]
  },
  {
   "cell_type": "code",
   "execution_count": 1,
   "metadata": {
    "collapsed": true
   },
   "outputs": [],
   "source": [
    "N0 = 5000\n",
    "K = 5000\n",
    "mu = 0.0007\n",
    "gen_num = 500\n",
    "N = N0\n",
    "s = 0.05\n",
    "L = 300"
   ]
  },
  {
   "cell_type": "markdown",
   "metadata": {},
   "source": [
    "## Agent specific parameters\n",
    "\n",
    "* k = number of deleterious mutation\n",
    "* w = fitness\n",
    "* seq = sequence vector"
   ]
  },
  {
   "cell_type": "code",
   "execution_count": 2,
   "metadata": {
    "collapsed": true,
    "scrolled": true
   },
   "outputs": [],
   "source": [
    "import numpy as np\n",
    "\n",
    "class Virus():\n",
    "    \"\"\"\n",
    "    This class produces objects which are single agents of a influenza virus.\n",
    "    L = sequence length for a virus\n",
    "    s = fitness decrease from deleterious mutation\n",
    "    k = number of deleterious mutation\n",
    "    w = fitness\n",
    "    seq = sequence vector\n",
    "    one_index = index of allele that is 1 (mutant)\n",
    "    \"\"\"\n",
    "    def __init__(self,one_index,k):\n",
    "        self.k = k \n",
    "        self.s = s\n",
    "        self.L = L\n",
    "        self.w = (1-self.s)**self.k\n",
    "        self.seq = np.repeat(0,self.L)\n",
    "        for i in one_index:\n",
    "            self.seq[i] = 1\n",
    "    \n",
    "    def mutate(self,mu):\n",
    "        \"\"\"\n",
    "        Mutation in sequence before reproduction\n",
    "        mu = mutation rate\n",
    "        \"\"\"\n",
    "        self.mutation_num = np.random.binomial(self.L,mu) # number of mutation\n",
    "        mut_seq_index = np.random.randint(self.L, size = self.mutation_num) # pick which allele goes thru mutation\n",
    "        for i in mut_seq_index:\n",
    "            if self.seq[i] == 1: # back mutation allowed.\n",
    "                self.seq[i] = 0\n",
    "                self.k -= 1\n",
    "            else: \n",
    "                self.seq[i] = 1\n",
    "                self.k += 1"
   ]
  },
  {
   "cell_type": "code",
   "execution_count": 5,
   "metadata": {
    "collapsed": true
   },
   "outputs": [],
   "source": [
    "# reset parameters if needed\n",
    "N0 = 5000\n",
    "K = 5000\n",
    "mu = 0.0007\n",
    "gen_num = 1000\n",
    "N = N0\n",
    "s = 0.05\n",
    "L = 300"
   ]
  },
  {
   "cell_type": "markdown",
   "metadata": {},
   "source": [
    "Go through reproduction and mutation every generation"
   ]
  },
  {
   "cell_type": "code",
   "execution_count": 6,
   "metadata": {
    "collapsed": true,
    "scrolled": true
   },
   "outputs": [],
   "source": [
    "import timeit\n",
    "\n",
    "start = timeit.default_timeer()\n",
    "\n",
    "viruses = [Virus([],0) for i in range(0,N0)] # initialize population\n",
    "pop = [N]\n",
    "k_array = [list(np.repeat(0,N))] # record of k\n",
    "f0_exp = []\n",
    "f0_obs = []\n",
    "for i in range(gen_num):\n",
    "    ks = []\n",
    "    next_gen = []\n",
    "    for virus in viruses:\n",
    "        virus.mutate(mu)\n",
    "        progeny_n = np.random.poisson(virus.w*(2/(1+N/K))) # number of progeny for that virus\n",
    "        for j in range(progeny_n):\n",
    "            one_index = np.where(virus.seq == 1)[0]\n",
    "            new_v = Virus(one_index, virus.k)\n",
    "            ks.append(new_v.k)\n",
    "            next_gen.append(new_v)\n",
    "    viruses = next_gen\n",
    "    N = len(viruses)\n",
    "    f0_exp.append(N*np.exp(-L*mu/s))\n",
    "    f0_obs.append(len(np.where(np.array(ks)==0)[0]))\n",
    "    k_array.append(ks)\n",
    "    pop.append(len(viruses)) # print population every generation\n",
    "\n",
    "stop = timeit.default_timer()\n",
    "print('simulation ran for %.2f min'%((start-stop)/60))"
   ]
  },
  {
   "cell_type": "code",
   "execution_count": 7,
   "metadata": {},
   "outputs": [
    {
     "data": {
      "text/plain": [
       "<matplotlib.text.Text at 0x7ff06e4a65f8>"
      ]
     },
     "execution_count": 7,
     "metadata": {},
     "output_type": "execute_result"
    },
    {
     "data": {
      "image/png": "[encoded data removed]",
      "text/plain": [
       "<matplotlib.figure.Figure at 0x7ff07078c400>"
      ]
     },
     "metadata": {},
     "output_type": "display_data"
    }
   ],
   "source": [
    "%matplotlib inline\n",
    "import matplotlib.pyplot as plt\n",
    "plt.plot(pop[10::]) # plot of population\n",
    "plt.title('population over time s=0.2')\n",
    "plt.xlabel('generation')\n",
    "plt.ylabel('population')"
   ]
  },
  {
   "cell_type": "code",
   "execution_count": 5,
   "metadata": {
    "scrolled": false
   },
   "outputs": [
    {
     "data": {
      "text/plain": [
       "<matplotlib.text.Text at 0x7fedf7f1a518>"
      ]
     },
     "execution_count": 5,
     "metadata": {},
     "output_type": "execute_result"
    },
    {
     "data": {
      "image/png": "[encoded data removed]",
      "text/plain": [
       "<matplotlib.figure.Figure at 0x7fee200ef518>"
      ]
     },
     "metadata": {},
     "output_type": "display_data"
    }
   ],
   "source": [
    "means = []\n",
    "for array in k_array:\n",
    "    means.append(np.mean(array))\n",
    "plt.plot(means)\n",
    "plt.title('mean of k over gens')"
   ]
  },
  {
   "cell_type": "code",
   "execution_count": 6,
   "metadata": {
    "collapsed": true
   },
   "outputs": [],
   "source": [
    "f0_obs = []\n",
    "for ks in k_array:\n",
    "    f0_obs.append(len(np.where(np.array(ks)==0)[0]))"
   ]
  },
  {
   "cell_type": "code",
   "execution_count": 7,
   "metadata": {},
   "outputs": [
    {
     "data": {
      "text/plain": [
       "[<matplotlib.lines.Line2D at 0x7fedf7f72b38>]"
      ]
     },
     "execution_count": 7,
     "metadata": {},
     "output_type": "execute_result"
    },
    {
     "data": {
      "image/png": "[encoded data removed]",
      "text/plain": [
       "<matplotlib.figure.Figure at 0x7fedf7ff8cc0>"
      ]
     },
     "metadata": {},
     "output_type": "display_data"
    }
   ],
   "source": [
    "#f0_exp = np.array(f0_exp) * np.exp(-L*mu/s)/np.exp(-mu/s)\n",
    "plt.plot(f0_exp) # blue\n",
    "plt.plot(f0_obs) # orange"
   ]
  },
  {
   "cell_type": "markdown",
   "metadata": {
    "collapsed": true
   },
   "source": [
    "Todo:\n",
    "- check: Muller's ratchet doesn't work under large population? And if it doesn't work, does frequency of wild-type viruses -follow f_0 = N*e^(-mu/s)?\n",
    "- check: if the muller's ratchet does activate, does the histogram of mutation amount shift right as generation increases?"
   ]
  },
  {
   "cell_type": "markdown",
   "metadata": {},
   "source": [
    "Yeongson's model as a benchmark:\n",
    "- N = 10000\n",
    "- L = 60\n",
    "- gen_n = 50000"
   ]
  }
 ],
 "metadata": {
  "kernelspec": {
   "display_name": "Python 3",
   "language": "python",
   "name": "python3"
  },
  "language_info": {
   "codemirror_mode": {
    "name": "ipython",
    "version": 3
   },
   "file_extension": ".py",
   "mimetype": "text/x-python",
   "name": "python",
   "nbconvert_exporter": "python",
   "pygments_lexer": "ipython3",
   "version": "3.6.4"
  }
 },
 "nbformat": 4,
 "nbformat_minor": 2
}
